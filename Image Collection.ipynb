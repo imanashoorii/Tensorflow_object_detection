{
 "cells": [
  {
   "cell_type": "markdown",
   "id": "abae16d1",
   "metadata": {},
   "source": [
    "### 1. Import Dependencies"
   ]
  },
  {
   "cell_type": "code",
   "execution_count": 1,
   "id": "0d8e2674",
   "metadata": {},
   "outputs": [
    {
     "name": "stdout",
     "output_type": "stream",
     "text": [
      "Collecting opencv-python\n",
      "  Using cached opencv_python-4.5.3.56-cp38-cp38-macosx_11_0_arm64.whl (10.7 MB)\n",
      "Collecting numpy>=1.21.0\n",
      "  Using cached numpy-1.21.2-cp38-cp38-macosx_11_0_arm64.whl (12.3 MB)\n",
      "Installing collected packages: numpy, opencv-python\n",
      "Successfully installed numpy-1.21.2 opencv-python-4.5.3.56\n"
     ]
    }
   ],
   "source": [
    "!pip install opencv-python"
   ]
  },
  {
   "cell_type": "code",
   "execution_count": 2,
   "id": "7c17df4f",
   "metadata": {},
   "outputs": [],
   "source": [
    "#Import opencv\n",
    "import cv2\n",
    "\n",
    "#Import uuid\n",
    "import uuid\n",
    "\n",
    "#Import Operation System\n",
    "import os\n",
    "\n",
    "#import time\n",
    "import time"
   ]
  },
  {
   "cell_type": "markdown",
   "id": "a093a39b",
   "metadata": {},
   "source": [
    "### 2. Define Images to Collect"
   ]
  },
  {
   "cell_type": "code",
   "execution_count": 4,
   "id": "b405536f",
   "metadata": {},
   "outputs": [],
   "source": [
    "labels = ['thumpsup', 'thumbsdown', 'thankyou', 'livelong']\n",
    "number_imgs = 5"
   ]
  },
  {
   "cell_type": "markdown",
   "id": "10561d29",
   "metadata": {},
   "source": [
    "### 3. Setup Folders"
   ]
  },
  {
   "cell_type": "code",
   "execution_count": null,
   "id": "455f81d3",
   "metadata": {},
   "outputs": [],
   "source": []
  }
 ],
 "metadata": {
  "kernelspec": {
   "display_name": "venv",
   "language": "python",
   "name": "venv"
  },
  "language_info": {
   "codemirror_mode": {
    "name": "ipython",
    "version": 3
   },
   "file_extension": ".py",
   "mimetype": "text/x-python",
   "name": "python",
   "nbconvert_exporter": "python",
   "pygments_lexer": "ipython3",
   "version": "3.8.2"
  }
 },
 "nbformat": 4,
 "nbformat_minor": 5
}
