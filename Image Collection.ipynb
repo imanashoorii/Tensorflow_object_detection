{
 "cells": [
  {
   "cell_type": "markdown",
   "id": "6cd70469",
   "metadata": {},
   "source": [
    "### 1. Import Dependencies"
   ]
  },
  {
   "cell_type": "code",
   "execution_count": null,
   "id": "e67a028a",
   "metadata": {},
   "outputs": [],
   "source": [
    "!pip install opencv-python"
   ]
  },
  {
   "cell_type": "code",
   "execution_count": null,
   "id": "b670185d",
   "metadata": {},
   "outputs": [],
   "source": [
    "#Import opencv\n",
    "import cv2\n",
    "\n",
    "#Import uuid\n",
    "import uuid\n",
    "\n",
    "#Import Operation System\n",
    "import os\n",
    "\n",
    "#import time\n",
    "import time"
   ]
  },
  {
   "cell_type": "markdown",
   "id": "6e4ccd01",
   "metadata": {},
   "source": [
    "### 2. Define Images to Collect"
   ]
  },
  {
   "cell_type": "code",
   "execution_count": null,
   "id": "b960be53",
   "metadata": {},
   "outputs": [],
   "source": [
    "labels = ['thumpsup', 'thumbsdown', 'thankyou', 'livelong']\n",
    "number_imgs = 5"
   ]
  },
  {
   "cell_type": "markdown",
   "id": "c26fe96f",
   "metadata": {},
   "source": [
    "### 3. Setup Folders"
   ]
  },
  {
   "cell_type": "code",
   "execution_count": null,
   "id": "d44dc4d9",
   "metadata": {},
   "outputs": [],
   "source": [
    "IMAGES_PATH = os.path.join('Tensorflow', 'workspace', 'images', 'collectedImages')"
   ]
  },
  {
   "cell_type": "code",
   "execution_count": null,
   "id": "0780e1af",
   "metadata": {},
   "outputs": [],
   "source": [
    "if not os.path.exists(IMAGES_PATH):\n",
    "    if os.name == 'posix':\n",
    "        !mkdir -p {IMAGES_PATH}\n",
    "    if os.name == 'nt':\n",
    "        !mkdir {IMAGES_PATH}\n",
    "for label in labels:\n",
    "    path = os.path.join(IMAGES_PATH, label)\n",
    "    if not os.path.exists(path):\n",
    "        !mkdir {path}"
   ]
  },
  {
   "cell_type": "markdown",
   "id": "9b76b5c5",
   "metadata": {},
   "source": [
    "### 4. Capture Images"
   ]
  },
  {
   "cell_type": "code",
   "execution_count": null,
   "id": "2f4544d7",
   "metadata": {},
   "outputs": [],
   "source": [
    "for label in labels:\n",
    "    #Capture from webcam\n",
    "    cap = cv2.VideoCapture(0)\n",
    "    print('Collecting images for {}'.format(label))\n",
    "    time.sleep(5)\n",
    "    for number in range(number_imgs):\n",
    "        print('Collecting image {}'.format(number))\n",
    "        ret, frame = cap.read()\n",
    "        filename = os.path.join(IMAGES_PATH, label, label+'.'+'{}.jpg'.format(str(uuid.uuid4())))\n",
    "        cv2.imwrite(filename, frame)\n",
    "        cv2.imshow('frame', frame)\n",
    "        time.sleep(2)\n",
    "        \n",
    "        if cv2.waitKey(1) & 0xFF == ord('q'):\n",
    "            break\n",
    "            \n",
    "cap.release()\n",
    "cv2.destroyAllWindows()"
   ]
  },
  {
   "cell_type": "markdown",
   "id": "a08ed101",
   "metadata": {},
   "source": [
    "### 5. Image Labeling"
   ]
  },
  {
   "cell_type": "code",
   "execution_count": null,
   "id": "3e485d46",
   "metadata": {},
   "outputs": [],
   "source": [
    "#use roseta terminal to install pyqt in M1 Chips\n",
    "!pip install --upgrade pyqt5 lxml"
   ]
  },
  {
   "cell_type": "code",
   "execution_count": null,
   "id": "27463a15",
   "metadata": {},
   "outputs": [],
   "source": [
    "LABELLING_PATH = os.path.join('Tensorflow', 'labeling')"
   ]
  },
  {
   "cell_type": "code",
   "execution_count": null,
   "id": "2e3180f5",
   "metadata": {},
   "outputs": [],
   "source": [
    "if not os.path.exists(LABELLING_PATH):\n",
    "    !mkdir {LABELLING_PATH}\n",
    "    !git clone https://github.com/tzutalin/labelImg {LABELLING_PATH}"
   ]
  },
  {
   "cell_type": "code",
   "execution_count": null,
   "id": "52734c90",
   "metadata": {},
   "outputs": [],
   "source": [
    "if os.name == 'posix':\n",
    "    !cd {LABELLING_PATH} && make qt5py3\n",
    "if os.name == 'nt':\n",
    "    !cd {LABELLING_PATH} && pyrcc5 -o libs/resources.py resources.qrc"
   ]
  },
  {
   "cell_type": "code",
   "execution_count": null,
   "id": "165ded3e",
   "metadata": {},
   "outputs": [],
   "source": [
    "!cd {LABELLING_PATH} && python labelImg.py"
   ]
  },
  {
   "cell_type": "markdown",
   "id": "d778e670",
   "metadata": {},
   "source": [
    "## 6. Move them into a Training & Testing Partition"
   ]
  },
  {
   "cell_type": "code",
   "execution_count": null,
   "id": "6e0ee64c",
   "metadata": {},
   "outputs": [],
   "source": [
    "TRAIN_PATH = os.path.join('Tensorflow', 'workspace', 'images', 'train')\n",
    "TEST_PATH = os.path.join('Tensorflow', 'workspace', 'images', 'test')\n",
    "ARCHIVE_PATH = os.path.join('Tensorflow', 'workspace', 'images', 'archive.tar.gz')"
   ]
  },
  {
   "cell_type": "code",
   "execution_count": null,
   "id": "eb7518dc",
   "metadata": {},
   "outputs": [],
   "source": [
    "!tar -czf {ARCHIVE_PATH} {TRAIN_PATH} {TEST_PATH}"
   ]
  }
 ],
 "metadata": {
  "kernelspec": {
   "display_name": "venv",
   "language": "python",
   "name": "venv"
  },
  "language_info": {
   "codemirror_mode": {
    "name": "ipython",
    "version": 3
   },
   "file_extension": ".py",
   "mimetype": "text/x-python",
   "name": "python",
   "nbconvert_exporter": "python",
   "pygments_lexer": "ipython3",
   "version": "3.9.6"
  }
 },
 "nbformat": 4,
 "nbformat_minor": 5
}
